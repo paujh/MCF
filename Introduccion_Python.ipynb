{
 "cells": [
  {
   "cell_type": "markdown",
   "metadata": {},
   "source": [
    "# Introducción a lenguaje de programación de Python"
   ]
  },
  {
   "cell_type": "markdown",
   "metadata": {},
   "source": [
    "# Indice"
   ]
  },
  {
   "cell_type": "markdown",
   "metadata": {},
   "source": [
    "- [Un poco de teoría](#Un-poco-de-teoría)\n",
    "    - [Anaconda](#Anaconda)\n",
    "    - [¿Qué es Python?](#¿Qué-es-Python?)\n",
    "    - [Ventajas](#Ventajas)\n",
    "- [Programación](#Programación)\n",
    "    - [Tipos de datos](#Tipos-de-datos)\n",
    "    - [Tipos de estructuras](#Tipos-de-estructuras)\n",
    "        - [Tuplas](#Tuplas)\n",
    "        - [Diccionario](#Diccionario)\n",
    "        - [Lista](#Lista)\n",
    "    - [Operadores](#Operadores)\n",
    "        - [Operadores aritméticos](#Operadores-aritméticos)\n",
    "        - [Operadores comparativos](#Operadores-comparativos)\n",
    "        - [Operadores de asignación](#Operadores-de-asignación)\n",
    "        - [Operadores lógicos](#Operadores-lógicos)\n",
    "    - [Ciclos](#Ciclos)\n",
    "        - [while](#while)\n",
    "        - [for](#for)\n",
    "    - [Condicionales](#Condicionales)\n",
    "        - [if](#if)\n",
    "        - [elif](#elif)\n",
    "    - [Ejercicios (Parte1)](#Ejercicios-(Parte1))\n",
    "    - [Funciones](#Funciones)\n",
    "    - [Otras Funciones](#Otras-Funciones)\n",
    "    - [Módulos](#Módulos)\n",
    "        - [math](#math)\n",
    "        - [datetime](#datetime)\n",
    "    - [Ejercicios (Parte2)](#Ejercicios-(Parte2))"
   ]
  },
  {
   "cell_type": "markdown",
   "metadata": {},
   "source": [
    "# Un poco de teoría"
   ]
  },
  {
   "cell_type": "markdown",
   "metadata": {},
   "source": [
    "## Anaconda"
   ]
  },
  {
   "cell_type": "markdown",
   "metadata": {},
   "source": [
    "<img src = \"https://upload.wikimedia.org/wikipedia/en/c/cd/Anaconda_Logo.png\"/>"
   ]
  },
  {
   "cell_type": "markdown",
   "metadata": {},
   "source": [
    "Anaconda Navigator es una GUI ( _Grafical User Interface_ ), es decir una interfaz gráfica de escritorio que permite manejar paquetes y lanzar aplicaciones. Una vez que abrimos Anaconda tenemos diversas aplicaciones:"
   ]
  },
  {
   "cell_type": "markdown",
   "metadata": {},
   "source": [
    "<img src = \"https://upload.wikimedia.org/wikipedia/commons/f/f4/Anaconda.Starting_page.png\"/>"
   ]
  },
  {
   "cell_type": "markdown",
   "metadata": {},
   "source": [
    "En el curso, vamos a ocupar __Jupyter Notebook__\n",
    "\n",
    "La aplicacion proviene de un proyecto nacido en 2014: __Proyecto Jupyter__. Este proyeto tiene como objetivo principal brindar apoyo a la ciencia de datos y a la computación científica de una manera interactiva. En el proyecto se desarrollaron diversos productos, entre ellos __Jupyter Notebook__ "
   ]
  },
  {
   "cell_type": "markdown",
   "metadata": {},
   "source": [
    "## ¿Qué es Python?"
   ]
  },
  {
   "cell_type": "markdown",
   "metadata": {},
   "source": [
    "<img src = \"https://upload.wikimedia.org/wikipedia/commons/c/c3/Python-logo-notext.svg\"/>"
   ]
  },
  {
   "cell_type": "markdown",
   "metadata": {},
   "source": [
    "Python es un lenguaje de programación multipropósito de alto nivel, que se utiliza en una amplia gama de dominios y campos técnicos. Según su sitio oficial, Python se define como:\n",
    "\n",
    "_Python is an interpreted, object-oriented, high-level programming language with dynamic semantics. Its high-level built in data structures, combined with dynamic typing and dynamic binding, make it very attractive for Rapid Application Development, as well as for use as a scripting or glue language to connect existing components together. Python's simple, easy to learn syntax emphasizes readability and therefore reduces the cost of program maintenance. Python supports modules and packages, which encourages program modularity and code reuse. The Python interpreter and the extensive standard library are available in source or binary form without charge for all major platforms, and can be freely distributed._"
   ]
  },
  {
   "cell_type": "markdown",
   "metadata": {},
   "source": [
    "## Ventajas"
   ]
  },
  {
   "cell_type": "markdown",
   "metadata": {},
   "source": [
    "* __Open source:__ Python se desarrolla bajo una licencia de Open source o código abierto aprobada por OSI. Esto quiere decir que se puede usar y distribuir de manera libre y gratuita. \n",
    "\n",
    "\n",
    "* __Multiparadigma:__ Python soporta múltiples paradigmas de programación: programación orientada a objetos, programación imperativa, aunque para utilizar algunas es necesario instalar extenciones adicionales.\n",
    "\n",
    "\n",
    "* __Tipado dinámico:__ Decimos que un lenguaje es de tipado dinámico, cuando una variable  puede tomar diferentes valores de distintos tipos de datos en cualquier momento:"
   ]
  },
  {
   "cell_type": "code",
   "execution_count": 1,
   "metadata": {},
   "outputs": [
    {
     "name": "stdout",
     "output_type": "stream",
     "text": [
      "1\n"
     ]
    }
   ],
   "source": [
    "x = 1\n",
    "print(x)"
   ]
  },
  {
   "cell_type": "code",
   "execution_count": 2,
   "metadata": {},
   "outputs": [
    {
     "name": "stdout",
     "output_type": "stream",
     "text": [
      "Hola Mundo\n"
     ]
    }
   ],
   "source": [
    "x = \"Hola Mundo\"\n",
    "print(x)"
   ]
  },
  {
   "cell_type": "markdown",
   "metadata": {},
   "source": [
    "* __Multiplataforma:__ Python se puede ejecutar en cualquier sistema operativo (Windows, Linux y Mac)\n",
    "\n",
    "\n",
    "* __Identation aware:__ A diferencia de otros lengajes de programación, Python ocupa sangrías (identaciones) para marcar bloques de código, en lugar de parentésis, llaves, etc. Esto ayuda a que el código se vea más ordenado y fácil de leer. \n"
   ]
  },
  {
   "cell_type": "markdown",
   "metadata": {},
   "source": [
    "<div class = \"alert alert-block alert-info\">\n",
    "<b>Nota:</b> Es muy importante tener en cuenta este último punto, ya que las primeras veces programando en Python es común caer en este error. \n",
    "</div>"
   ]
  },
  {
   "cell_type": "markdown",
   "metadata": {},
   "source": [
    "# Programación"
   ]
  },
  {
   "cell_type": "code",
   "execution_count": null,
   "metadata": {},
   "outputs": [],
   "source": [
    "#Esto es un comentario\n",
    "\"\"\"Esto también es un comentario, \n",
    "la diferencia con el # es que las \n",
    "comillas nos permiten comentar varios renglones\n",
    "\"\"\"\n",
    "\n",
    "\"\"\"Esto es un comentario\n",
    "\n",
    "esto es un comentario2\"\"\""
   ]
  },
  {
   "cell_type": "markdown",
   "metadata": {},
   "source": [
    "## Tipos de datos"
   ]
  },
  {
   "cell_type": "markdown",
   "metadata": {},
   "source": [
    "| Tipo de dato | Abreviación |\n",
    "| ---------- | ---------- |\n",
    "| Entero   | int   |\n",
    "| Flotante   | float   |\n",
    "| Booleano   | bool   |\n",
    "| String   | str   |"
   ]
  },
  {
   "cell_type": "markdown",
   "metadata": {},
   "source": [
    "<div class=\"alert alert-block alert-success\">\n",
    "<b>Recuerda:</b>  Para identificar el tipo de dato con el que estamos trabajando, ocupamos la función type()\n",
    "</div>"
   ]
  },
  {
   "cell_type": "code",
   "execution_count": 4,
   "metadata": {},
   "outputs": [
    {
     "data": {
      "text/plain": [
       "int"
      ]
     },
     "execution_count": 4,
     "metadata": {},
     "output_type": "execute_result"
    }
   ],
   "source": [
    "type(7)"
   ]
  },
  {
   "cell_type": "code",
   "execution_count": 5,
   "metadata": {},
   "outputs": [
    {
     "data": {
      "text/plain": [
       "16"
      ]
     },
     "execution_count": 5,
     "metadata": {},
     "output_type": "execute_result"
    }
   ],
   "source": [
    "7+9"
   ]
  },
  {
   "cell_type": "code",
   "execution_count": 6,
   "metadata": {},
   "outputs": [
    {
     "data": {
      "text/plain": [
       "1.0"
      ]
     },
     "execution_count": 6,
     "metadata": {},
     "output_type": "execute_result"
    }
   ],
   "source": [
    "1.0"
   ]
  },
  {
   "cell_type": "code",
   "execution_count": 7,
   "metadata": {},
   "outputs": [
    {
     "data": {
      "text/plain": [
       "float"
      ]
     },
     "execution_count": 7,
     "metadata": {},
     "output_type": "execute_result"
    }
   ],
   "source": [
    "type(1.0)"
   ]
  },
  {
   "cell_type": "code",
   "execution_count": 8,
   "metadata": {},
   "outputs": [
    {
     "name": "stdout",
     "output_type": "stream",
     "text": [
      "Hola Mundo\n"
     ]
    }
   ],
   "source": [
    "print(\"Hola Mundo\")"
   ]
  },
  {
   "cell_type": "markdown",
   "metadata": {},
   "source": [
    "<div class = \"alert alert-block alert-danger\">\n",
    "<b>Importante:</b> Recuerda poner letra mayúscula al inicio de True y False ( true es distinto a True )\n",
    "</div>"
   ]
  },
  {
   "cell_type": "markdown",
   "metadata": {},
   "source": [
    "## Tipos de Estructuras"
   ]
  },
  {
   "cell_type": "markdown",
   "metadata": {},
   "source": [
    "Una estructura de datos, es un conjunto que puede almacenar una gran cantidad de objetos (entre ellos, tipos de datos)\n",
    "\n",
    "| Tipo de dato | Abreviación | Apertura |\n",
    "| ---------- | ---------- | ---------- |\n",
    "| Tuplas   | tuple   | () |\n",
    "| Diccionarios   | dict   | {} |\n",
    "| Listas   | list   | \\[\\] |\n"
   ]
  },
  {
   "cell_type": "markdown",
   "metadata": {},
   "source": [
    "<div class=\"alert alert-block alert-success\">\n",
    "<b>Nota:</b> A diferencia de otros lenguajes de programación, las estructuras de datos inician desde el índice 0 y terminan en el índice n-1, donde n es el número de elementos de la estructura de datos. \n",
    "</div>"
   ]
  },
  {
   "cell_type": "markdown",
   "metadata": {},
   "source": [
    "Ejemplo en __RSTUDIO__: \n",
    "\n",
    "| Indice | 1 | 2 | 3 | 4|\n",
    "| ---------- | ---------- | ---------- | ---------- | ---------- |\n",
    "| Palabra   | C | A | S | A |\n",
    "\n",
    "Ejemplo en __Python__: \n",
    "\n",
    "| Indice | 0 | 1 | 2 | 3|\n",
    "| ---------- | ---------- | ---------- | ---------- | ---------- |\n",
    "| Palabra   | C | A | S | A |"
   ]
  },
  {
   "cell_type": "markdown",
   "metadata": {},
   "source": [
    "### Tuplas\n",
    "\n",
    "Es una colección de objetos inmutables. Un objeto inmutable es un objeto cuyo estado no puede ser modificado una vez que es creado, esto quiere decir, que una vez que creamos la tupla NO  podemos agregar, cambiar o eliminar elementos."
   ]
  },
  {
   "cell_type": "code",
   "execution_count": 9,
   "metadata": {},
   "outputs": [],
   "source": [
    "#creamos una tupla\n",
    "miTupla = (1,2,3,4,5)"
   ]
  },
  {
   "cell_type": "code",
   "execution_count": 10,
   "metadata": {},
   "outputs": [
    {
     "name": "stdout",
     "output_type": "stream",
     "text": [
      "(1, 2, 3, 4, 5)\n"
     ]
    }
   ],
   "source": [
    "print(miTupla)"
   ]
  },
  {
   "cell_type": "code",
   "execution_count": 11,
   "metadata": {},
   "outputs": [
    {
     "data": {
      "text/plain": [
       "1"
      ]
     },
     "execution_count": 11,
     "metadata": {},
     "output_type": "execute_result"
    }
   ],
   "source": [
    "#selecionamos el primer elemento de una tupla\n",
    "miTupla[0]"
   ]
  },
  {
   "cell_type": "code",
   "execution_count": 13,
   "metadata": {},
   "outputs": [
    {
     "data": {
      "text/plain": [
       "5"
      ]
     },
     "execution_count": 13,
     "metadata": {},
     "output_type": "execute_result"
    }
   ],
   "source": [
    "#seleccionamos el último elemento de una tupla\n",
    "miTupla[-1]"
   ]
  },
  {
   "cell_type": "code",
   "execution_count": 17,
   "metadata": {},
   "outputs": [
    {
     "data": {
      "text/plain": [
       "(2, 3, 4)"
      ]
     },
     "execution_count": 17,
     "metadata": {},
     "output_type": "execute_result"
    }
   ],
   "source": [
    "#del segundo elemento al penúltimo elemento\n",
    "miTupla[1:-1]"
   ]
  },
  {
   "cell_type": "code",
   "execution_count": 18,
   "metadata": {},
   "outputs": [
    {
     "data": {
      "text/plain": [
       "(1, 2, 3)"
      ]
     },
     "execution_count": 18,
     "metadata": {},
     "output_type": "execute_result"
    }
   ],
   "source": [
    "#del primer al tercer elemento\n",
    "#recuerda toma los elementos con indice (0,1,2)\n",
    "miTupla[:3]"
   ]
  },
  {
   "cell_type": "code",
   "execution_count": 19,
   "metadata": {},
   "outputs": [
    {
     "data": {
      "text/plain": [
       "(1, 3.1416, 'Finanzas 2')"
      ]
     },
     "execution_count": 19,
     "metadata": {},
     "output_type": "execute_result"
    }
   ],
   "source": [
    "#Tupla de varios tipos de datos\n",
    "(1, 3.1416, \"Finanzas 2\")"
   ]
  },
  {
   "cell_type": "markdown",
   "metadata": {},
   "source": [
    "### Diccionario\n",
    "\n",
    "Un diccionario es una colección de objetos con una llave"
   ]
  },
  {
   "cell_type": "code",
   "execution_count": 20,
   "metadata": {},
   "outputs": [],
   "source": [
    "#Definimos los calendarios\n",
    "miCalendario = {\"Enero\":1, \"Febrero\": 2, \"Marzo\": 3, \"Abril\": 4, \"Junio\":5, \"Julio\":6}"
   ]
  },
  {
   "cell_type": "code",
   "execution_count": 21,
   "metadata": {},
   "outputs": [
    {
     "name": "stdout",
     "output_type": "stream",
     "text": [
      "{'Enero': 1, 'Febrero': 2, 'Marzo': 3, 'Abril': 4, 'Junio': 5, 'Julio': 6}\n"
     ]
    }
   ],
   "source": [
    "print(miCalendario)"
   ]
  },
  {
   "cell_type": "code",
   "execution_count": 23,
   "metadata": {},
   "outputs": [
    {
     "data": {
      "text/plain": [
       "1"
      ]
     },
     "execution_count": 23,
     "metadata": {},
     "output_type": "execute_result"
    }
   ],
   "source": [
    "#Seleccionamos el calendario cuya llave es ENERO\n",
    "miCalendario[\"Enero\"]"
   ]
  },
  {
   "cell_type": "code",
   "execution_count": 26,
   "metadata": {},
   "outputs": [],
   "source": [
    "#tupla dentro de diccionario\n",
    "tupla2 = (miCalendario, 1, 2)"
   ]
  },
  {
   "cell_type": "code",
   "execution_count": 32,
   "metadata": {},
   "outputs": [],
   "source": [
    "#Cambiamos valor a la llave de Enero\n",
    "miCalendario[\"Enero\"] = 100"
   ]
  },
  {
   "cell_type": "code",
   "execution_count": 33,
   "metadata": {},
   "outputs": [
    {
     "name": "stdout",
     "output_type": "stream",
     "text": [
      "{'Enero': 100, 'Febrero': 2, 'Marzo': 3, 'Abril': 4, 'Junio': 5, 'Julio': 6}\n"
     ]
    }
   ],
   "source": [
    "#imprimimos en pantalla\n",
    "print(miCalendario)"
   ]
  },
  {
   "cell_type": "code",
   "execution_count": 29,
   "metadata": {},
   "outputs": [
    {
     "data": {
      "text/plain": [
       "tuple"
      ]
     },
     "execution_count": 29,
     "metadata": {},
     "output_type": "execute_result"
    }
   ],
   "source": [
    "#tupla\n",
    "type(tupla2)"
   ]
  },
  {
   "cell_type": "code",
   "execution_count": 30,
   "metadata": {},
   "outputs": [],
   "source": [
    "#nueva tupla\n",
    "miNumero = {\"Pi\":3.1416, \"Uno\":1}"
   ]
  },
  {
   "cell_type": "code",
   "execution_count": 31,
   "metadata": {},
   "outputs": [
    {
     "data": {
      "text/plain": [
       "3.1416"
      ]
     },
     "execution_count": 31,
     "metadata": {},
     "output_type": "execute_result"
    }
   ],
   "source": [
    "#extraemos valor de la llave Pi\n",
    "miNumero[\"Pi\"]"
   ]
  },
  {
   "cell_type": "markdown",
   "metadata": {},
   "source": [
    "<div class=\"alert alert-block alert-success\">\n",
    "<b>Nota:</b> A diferencia de la tupla, para encontrar los elementos del diccionario se ocupa una llave de identificación\n",
    "</div>"
   ]
  },
  {
   "cell_type": "markdown",
   "metadata": {},
   "source": [
    "### Lista"
   ]
  },
  {
   "cell_type": "markdown",
   "metadata": {},
   "source": [
    "Es una colección de objetos mutables. Un objeto mutable es un objeto cuyo estado puede ser modificado una vez creado, esto quiere decir que una vez que creamos una lista  podemos agregar, cambiar o eliminar elementos."
   ]
  },
  {
   "cell_type": "code",
   "execution_count": null,
   "metadata": {},
   "outputs": [],
   "source": []
  },
  {
   "cell_type": "code",
   "execution_count": null,
   "metadata": {},
   "outputs": [],
   "source": []
  },
  {
   "cell_type": "code",
   "execution_count": null,
   "metadata": {},
   "outputs": [],
   "source": []
  },
  {
   "cell_type": "markdown",
   "metadata": {},
   "source": [
    "Para agregar elemntos a una lista, ocupamos el método `append()`. \n",
    "Para eliminar una lista ocupamos el método `remove()`."
   ]
  },
  {
   "cell_type": "code",
   "execution_count": null,
   "metadata": {},
   "outputs": [],
   "source": []
  },
  {
   "cell_type": "code",
   "execution_count": null,
   "metadata": {},
   "outputs": [],
   "source": []
  },
  {
   "cell_type": "markdown",
   "metadata": {},
   "source": [
    "## Operadores"
   ]
  },
  {
   "cell_type": "markdown",
   "metadata": {},
   "source": [
    "### Operadores aritméticos"
   ]
  },
  {
   "cell_type": "markdown",
   "metadata": {},
   "source": [
    "| Operador | Descripción |\n",
    "| ---------- | ---------- |\n",
    "| +   | Suma  |\n",
    "| - | Resta |\n",
    "| * | Multiplicación   |\n",
    "| / | División |\n",
    "| % | Módulo |\n",
    "| ** | Exponente |"
   ]
  },
  {
   "cell_type": "code",
   "execution_count": null,
   "metadata": {},
   "outputs": [],
   "source": []
  },
  {
   "cell_type": "code",
   "execution_count": null,
   "metadata": {},
   "outputs": [],
   "source": []
  },
  {
   "cell_type": "code",
   "execution_count": null,
   "metadata": {},
   "outputs": [],
   "source": []
  },
  {
   "cell_type": "code",
   "execution_count": null,
   "metadata": {},
   "outputs": [],
   "source": []
  },
  {
   "cell_type": "code",
   "execution_count": null,
   "metadata": {},
   "outputs": [],
   "source": []
  },
  {
   "cell_type": "code",
   "execution_count": null,
   "metadata": {},
   "outputs": [],
   "source": []
  },
  {
   "cell_type": "markdown",
   "metadata": {},
   "source": [
    "### Operadores comparativos"
   ]
  },
  {
   "cell_type": "markdown",
   "metadata": {},
   "source": [
    "| Operador | Descripción |\n",
    "| ---------- | ---------- |\n",
    "| ==   | Equivalente  |\n",
    "| != | Diferente |\n",
    "| > | Mayor que   |\n",
    "| < | Menor que |\n",
    "| >= | Mayor o igual |\n",
    "| <= | Menor o igual |"
   ]
  },
  {
   "cell_type": "code",
   "execution_count": null,
   "metadata": {},
   "outputs": [],
   "source": []
  },
  {
   "cell_type": "code",
   "execution_count": null,
   "metadata": {},
   "outputs": [],
   "source": []
  },
  {
   "cell_type": "code",
   "execution_count": null,
   "metadata": {},
   "outputs": [],
   "source": []
  },
  {
   "cell_type": "code",
   "execution_count": null,
   "metadata": {},
   "outputs": [],
   "source": []
  },
  {
   "cell_type": "code",
   "execution_count": null,
   "metadata": {},
   "outputs": [],
   "source": []
  },
  {
   "cell_type": "markdown",
   "metadata": {},
   "source": [
    "### Operadores de asignación"
   ]
  },
  {
   "cell_type": "markdown",
   "metadata": {},
   "source": [
    "| Operador | Descripción |\n",
    "| ---------- | ---------- |\n",
    "| =   | Asigna valores, $a,b = 0, 1$ es equivalente a $a = 0$ y $b=1$ |\n",
    "| $+=$ | $c+=a$ es equivalente a $c = c + a$ |\n",
    "| $-=$ | $c-=a$ es equivalente a $c = c - a$ |\n",
    "| $*=$ | $c*=a$ es equivalente a $c = c * a$ |\n",
    "| $/=$ | $c/=a$ es equivalente a $c = c / a$ |\n",
    "| $\\%=$ | $c\\%=a$ es equivalente a $c = c \\% a$ |\n",
    "| $**=$ | $c**=a$ es equivalente a $c = c ** a$ |"
   ]
  },
  {
   "cell_type": "markdown",
   "metadata": {},
   "source": [
    "### Operadores lógicos"
   ]
  },
  {
   "cell_type": "markdown",
   "metadata": {},
   "source": [
    "| Operador | Descripción |\n",
    "| ---------- | ---------- |\n",
    "| and  | Verdadero solo cuando ambos operadores lo son |\n",
    "| or | Verdadero cuando cualquiera de los operandos lo es |\n",
    "| not | Reviere el estado lógico |"
   ]
  },
  {
   "cell_type": "markdown",
   "metadata": {},
   "source": [
    "## Ciclos"
   ]
  },
  {
   "cell_type": "markdown",
   "metadata": {},
   "source": [
    "### `while`"
   ]
  },
  {
   "cell_type": "code",
   "execution_count": null,
   "metadata": {},
   "outputs": [],
   "source": []
  },
  {
   "cell_type": "markdown",
   "metadata": {},
   "source": [
    "Cabe destacar que el ciclo while se ejecuta mientras la condición (b < 10) sea verdadera. El cuerpo del ciclo está __sangrado__, es decir, la sangría es la forma que usa Python para agrupar declaraciones (recuerda las propiedades de Python), esto hace que el código sea más legible. En la plataforma se debe escribir un tabulador para cada línea que pertenezca a la misma declaración."
   ]
  },
  {
   "cell_type": "markdown",
   "metadata": {},
   "source": [
    "### `for`"
   ]
  },
  {
   "cell_type": "code",
   "execution_count": null,
   "metadata": {},
   "outputs": [],
   "source": []
  },
  {
   "cell_type": "markdown",
   "metadata": {},
   "source": [
    "El ciclo `for`, a diferencia de otros lenguajes, puede iterar sobre los elementos de cualquier secuencia (lista o cadena de texto), en el orden en el que van apareciendo."
   ]
  },
  {
   "cell_type": "code",
   "execution_count": null,
   "metadata": {},
   "outputs": [],
   "source": []
  },
  {
   "cell_type": "markdown",
   "metadata": {},
   "source": [
    "## Condicionales"
   ]
  },
  {
   "cell_type": "markdown",
   "metadata": {},
   "source": [
    "### `if`"
   ]
  },
  {
   "cell_type": "code",
   "execution_count": null,
   "metadata": {},
   "outputs": [],
   "source": []
  },
  {
   "cell_type": "markdown",
   "metadata": {},
   "source": [
    "### `elif`"
   ]
  },
  {
   "cell_type": "markdown",
   "metadata": {},
   "source": [
    "Las sentencias `elif` son la abreviación de `else if` y es útil para evitar usar tabuladores en exceso. La secuencia \n",
    "if... elif ... elif ... \n",
    "puede ser un sustituto de la sentencia `switch` o `case` que existe en otros lenguajes."
   ]
  },
  {
   "cell_type": "code",
   "execution_count": null,
   "metadata": {},
   "outputs": [],
   "source": []
  },
  {
   "cell_type": "markdown",
   "metadata": {},
   "source": [
    "__Nota:__ Puede no haber sentencias `elif`, y la sentencia `else` es __opcional__. "
   ]
  },
  {
   "cell_type": "code",
   "execution_count": null,
   "metadata": {},
   "outputs": [],
   "source": []
  },
  {
   "cell_type": "markdown",
   "metadata": {},
   "source": [
    "## Ejercicios (Parte1)"
   ]
  },
  {
   "cell_type": "markdown",
   "metadata": {},
   "source": [
    "1) Selecciona un número `x` e imprime los primeros cinco multiplos de ese número.\n",
    "\n",
    "__Por ejemplo, si `x=3`entonces se debe de imprimir `3`,`6`,`9`,`12`,`15`.__"
   ]
  },
  {
   "cell_type": "code",
   "execution_count": null,
   "metadata": {},
   "outputs": [],
   "source": []
  },
  {
   "cell_type": "markdown",
   "metadata": {},
   "source": [
    "2) Para el ejercicio pasado, crea una variable `n` la cual te indique la cantidad de multiplos que quieres obtener del número `x`. Posteriormente guárdalo en una lista."
   ]
  },
  {
   "cell_type": "code",
   "execution_count": null,
   "metadata": {},
   "outputs": [],
   "source": []
  },
  {
   "cell_type": "markdown",
   "metadata": {},
   "source": [
    "3) Programa la suma de dos vectores de la misma magnitud con listas, es decir:\n",
    "\n",
    "Sea $L1 = (x_{0}, x_{1}, ... x_{N})$ y $L2 = (y_{0}, y_{1}, ... y_{N})$ con $x_{i}, y_{i} \\in R$, $\\forall i \\in \\{0,1,..,N\\}$, definimos la suma entre $L1$ y $L2$ ($L3$) como:\n",
    "\n",
    "$$ L3 = (x_{0} + y_{0}, x_{1} + y_{1}, .... , x_{N} + y_{N}) $$"
   ]
  },
  {
   "cell_type": "markdown",
   "metadata": {},
   "source": [
    "## Funciones"
   ]
  },
  {
   "cell_type": "markdown",
   "metadata": {},
   "source": [
    "La sentencia para definir una función `def` debe de estar seguida del nombre de la función, y entre paréntesis la lista de parámetros.\n",
    "\n",
    "``` python \n",
    "def nameFunction( parameter1, parameter2, ... , parameter n) #n parámetros\n",
    "    instruction1\n",
    "    instruction2\n",
    "    ...\n",
    "    return variable #Puede no regresar una variable ```"
   ]
  },
  {
   "cell_type": "code",
   "execution_count": 87,
   "metadata": {},
   "outputs": [],
   "source": [
    "def hipotenusa(lado1, lado2):\n",
    "    \"\"\"Función que cálcula la hipotenusa de un triángulo rectángulo, dados los lados\n",
    "     \n",
    "    Parametros\n",
    "    ----------\n",
    "    lado1 : float\n",
    "        Cateto opuesto del triángulo rectangulo\n",
    "    lado2 : float\n",
    "        Cateto adyacente del triángulo rectangulo\n",
    "            \n",
    "    Return\n",
    "    ----------\n",
    "    hip : float\n",
    "        Hipotenusa del triangulo rectángulo\n",
    "    \"\"\"\n",
    "    hip = (lado1 ** (2) + lado2 ** (2)) ** (1 / 2)\n",
    "    return hip"
   ]
  },
  {
   "cell_type": "code",
   "execution_count": 88,
   "metadata": {},
   "outputs": [
    {
     "data": {
      "text/plain": [
       "5.0"
      ]
     },
     "execution_count": 88,
     "metadata": {},
     "output_type": "execute_result"
    }
   ],
   "source": [
    "hipotenusa(3, 4)"
   ]
  },
  {
   "cell_type": "code",
   "execution_count": null,
   "metadata": {},
   "outputs": [],
   "source": []
  },
  {
   "cell_type": "markdown",
   "metadata": {},
   "source": [
    "## Otras funciones"
   ]
  },
  {
   "cell_type": "markdown",
   "metadata": {},
   "source": [
    "La función `range` genera una progresión aritmética:\n",
    "\n",
    "``` python \n",
    "range(beginning, end, step) #Puede no regresar una variable ```\n",
    "\n",
    "en donde: \n",
    "    \n",
    "* `beggining` indica el punto de inicio de la progresión\n",
    "* `end` el punto final de la progresión (no lo toca)\n",
    "* `step` el paso de la progresión."
   ]
  },
  {
   "cell_type": "markdown",
   "metadata": {},
   "source": [
    "__Rango de enteros en el intervalo [2, 10) con paso uno__"
   ]
  },
  {
   "cell_type": "code",
   "execution_count": null,
   "metadata": {},
   "outputs": [],
   "source": []
  },
  {
   "cell_type": "markdown",
   "metadata": {},
   "source": [
    "__Rango de enteros en el intervalo [3, 30) con paso tres__"
   ]
  },
  {
   "cell_type": "code",
   "execution_count": null,
   "metadata": {},
   "outputs": [],
   "source": []
  },
  {
   "cell_type": "markdown",
   "metadata": {},
   "source": [
    "## Módulos"
   ]
  },
  {
   "cell_type": "markdown",
   "metadata": {},
   "source": [
    "Un módulo es lo que conocemos como librería o paquetería en otros lenguajes. \n",
    "Para instalar cualquier módulo debes:\n",
    "\n",
    "1) En el buscador de windows, teclear __Anaconda Prompt__. Se va a desplegar una ventana parecida al cmd de windows.\n",
    "\n",
    "2) Una vez abierta, escribir __pip install \"nombre del modulo\"__. \n",
    "\n",
    "3) Esperar a que complete la instalación.\n",
    "\n",
    "Para declarar un módulo en jupyter se tiene la siguiente sintáxis:\n",
    "\n",
    "``` python \n",
    "import module as myname #Puede no regresar una variable ```\n",
    "\n",
    "donde: \n",
    "* `module` es el nombre del modulo \n",
    "* `myname` es el nombre que asignas al módulo"
   ]
  },
  {
   "cell_type": "markdown",
   "metadata": {},
   "source": [
    "### `math`"
   ]
  },
  {
   "cell_type": "markdown",
   "metadata": {},
   "source": [
    "Módulo que proporciona acceso a las funciones matemáticas, tales como seno, coseno, función piso, raiz cuadrada, etc."
   ]
  },
  {
   "cell_type": "code",
   "execution_count": null,
   "metadata": {},
   "outputs": [],
   "source": []
  },
  {
   "cell_type": "code",
   "execution_count": null,
   "metadata": {},
   "outputs": [],
   "source": []
  },
  {
   "cell_type": "markdown",
   "metadata": {},
   "source": [
    "La función `ceil` del módulo math permite obtener el techo de cualquier número real"
   ]
  },
  {
   "cell_type": "code",
   "execution_count": null,
   "metadata": {},
   "outputs": [],
   "source": []
  },
  {
   "cell_type": "markdown",
   "metadata": {},
   "source": [
    "### `datetime`"
   ]
  },
  {
   "cell_type": "markdown",
   "metadata": {},
   "source": [
    "Este módulo contiene las clases `time` y `datetime`, las cuales son senciales para manejar tiempo, horas y fechas."
   ]
  },
  {
   "cell_type": "code",
   "execution_count": null,
   "metadata": {},
   "outputs": [],
   "source": []
  },
  {
   "cell_type": "code",
   "execution_count": null,
   "metadata": {},
   "outputs": [],
   "source": []
  },
  {
   "cell_type": "code",
   "execution_count": null,
   "metadata": {},
   "outputs": [],
   "source": []
  },
  {
   "cell_type": "markdown",
   "metadata": {},
   "source": [
    "## Ejercicios (Parte2)"
   ]
  },
  {
   "cell_type": "markdown",
   "metadata": {},
   "source": [
    "1. Define una función, en donde el usuario ingrese dos número,:`x` y `y`, y calcule $\\frac{|x-y|}{x+y}$ "
   ]
  },
  {
   "cell_type": "code",
   "execution_count": null,
   "metadata": {},
   "outputs": [],
   "source": []
  },
  {
   "cell_type": "markdown",
   "metadata": {},
   "source": [
    "2. Define una función, en donde el usuario inserte un número `n` y se calcule el factorial de dicho número."
   ]
  },
  {
   "cell_type": "code",
   "execution_count": null,
   "metadata": {},
   "outputs": [],
   "source": []
  },
  {
   "cell_type": "markdown",
   "metadata": {},
   "source": [
    "3. Escribe un programa en donde el usuario inserte un número en centimetros. Si el usuario inserta un número negativo, el programa deberá de avisar al usuario que la entrada es inválida. En otro caso, deberá convertir la medida a pulgadas (recuerda que 2.54 cm equivalen a una pulgada)"
   ]
  },
  {
   "cell_type": "code",
   "execution_count": null,
   "metadata": {},
   "outputs": [],
   "source": []
  },
  {
   "cell_type": "markdown",
   "metadata": {},
   "source": [
    "4. Una tienda ofrece $\\$$12 por artículo si se compran menos de 10 artículos. Si se compran entre 10 y 99 artículos, el costo de cada uno de ellos es de $\\$$10. Finalmente, si se compran 100 o más artículos, el costo por cada uno de ellos es de $\\$7$. Escribe un código en donde el usuario inserte cuantos artículos compró y que calcule el costo total de su compra."
   ]
  },
  {
   "cell_type": "code",
   "execution_count": null,
   "metadata": {},
   "outputs": [],
   "source": []
  },
  {
   "cell_type": "markdown",
   "metadata": {},
   "source": [
    "5.Escribe un programa en donde el usuario inserte una lista de números enteros y que realice lo siguiente:\n",
    "\n",
    "    (a) Imprimir el número total de elementos en la lista\n",
    "\n",
    "    (b) Imprimir el último elemento\n",
    "\n",
    "    (c) Imprimir la lista ordenada de menor a mayor\n",
    "\n",
    "    (d) Imprimir \"Si\" en caso de que la lista contenga algun 5.\n",
    "\n",
    "    (e) Imprimir el número de 5 que tengan en la lista.\n",
    "\n",
    "    (f) Elimina el primer y último elemento de la lista.\n",
    "\n",
    "    (g) Imprimir cuantos números de la lista son menores a 5"
   ]
  },
  {
   "cell_type": "code",
   "execution_count": null,
   "metadata": {},
   "outputs": [],
   "source": []
  },
  {
   "cell_type": "code",
   "execution_count": null,
   "metadata": {},
   "outputs": [],
   "source": []
  }
 ],
 "metadata": {
  "kernelspec": {
   "display_name": "Python 3",
   "language": "python",
   "name": "python3"
  },
  "language_info": {
   "codemirror_mode": {
    "name": "ipython",
    "version": 3
   },
   "file_extension": ".py",
   "mimetype": "text/x-python",
   "name": "python",
   "nbconvert_exporter": "python",
   "pygments_lexer": "ipython3",
   "version": "3.8.3"
  }
 },
 "nbformat": 4,
 "nbformat_minor": 4
}
